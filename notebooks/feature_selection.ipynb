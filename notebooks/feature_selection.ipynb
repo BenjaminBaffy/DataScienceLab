{
 "cells": [
  {
   "cell_type": "code",
   "execution_count": 2,
   "metadata": {},
   "outputs": [],
   "source": [
    "import numpy as np\n",
    "import sklearn as sk\n",
    "import gower\n",
    "from sklearn import metrics\n",
    "from sklearn import feature_selection\n",
    "from sklearn import decomposition\n",
    "import pandas as pd\n",
    "pd.set_option('display.max_rows', 20)\n",
    "pd.set_option('display.max_columns', None)\n",
    "from matplotlib import pyplot as plt\n",
    "%matplotlib inline"
   ]
  },
  {
   "cell_type": "code",
   "execution_count": 3,
   "metadata": {},
   "outputs": [],
   "source": [
    "df = pd.read_csv(\"cleaned_missing_kept_v1.csv\")"
   ]
  },
  {
   "cell_type": "code",
   "execution_count": 4,
   "metadata": {},
   "outputs": [],
   "source": [
    "df.drop([\n",
    "    \"CREATED_ON\",\n",
    "    \"LAST_LOGIN\",\n",
    "    \"SERVICE_X_DATE\",\n",
    "    \"PACKAGE_CHANGE_DATE\",\n",
    "    \"SUPERUSER_LAST_LOGIN\",\n",
    "    \"ACCOUNTANT_LAST_LOGIN\"\n",
    "    ], axis=1, inplace=True)"
   ]
  },
  {
   "cell_type": "code",
   "execution_count": 5,
   "metadata": {},
   "outputs": [],
   "source": [
    "df[[\"LINE_OF_BUSINESS\", \"SIZE_CODE\", \"STATUS_CODE\"]] = df[[\"LINE_OF_BUSINESS\", \"SIZE_CODE\", \"STATUS_CODE\"]].astype(str).replace('nan',np.nan)"
   ]
  },
  {
   "cell_type": "code",
   "execution_count": 6,
   "metadata": {},
   "outputs": [
    {
     "name": "stdout",
     "output_type": "stream",
     "text": [
      "<class 'pandas.core.frame.DataFrame'>\n",
      "RangeIndex: 27423 entries, 0 to 27422\n",
      "Data columns (total 20 columns):\n",
      " #   Column                        Non-Null Count  Dtype  \n",
      "---  ------                        --------------  -----  \n",
      " 0   LINE_OF_BUSINESS              20656 non-null  object \n",
      " 1   SIZE_CODE                     21509 non-null  object \n",
      " 2   PACKAGE_TYPE                  27394 non-null  object \n",
      " 3   PREVIOUS_PACKAGE_TYPE         26277 non-null  object \n",
      " 4   SERVICE_1_COUNT               27419 non-null  float64\n",
      " 5   SERVICE_2_COUNT               27419 non-null  float64\n",
      " 6   SERVICE_2_TOTAL               27419 non-null  float64\n",
      " 7   SERVICE_3_COUNT               27419 non-null  float64\n",
      " 8   SUPERUSER_ID                  27423 non-null  float64\n",
      " 9   ACCOUNTANT_ID                 27423 non-null  float64\n",
      " 10  GROSS_INCOME                  19131 non-null  float64\n",
      " 11  STATUS_CODE                   21511 non-null  object \n",
      " 12  RATING_CODE                   20680 non-null  float64\n",
      " 13  CREATED_ON_ACTIVE             27423 non-null  bool   \n",
      " 14  LAST_LOGIN_ACTIVE             27423 non-null  bool   \n",
      " 15  SERVICE_X_DATE_ACTIVE         27423 non-null  bool   \n",
      " 16  PACKAGE_CHANGE_DATE_ACTIVE    27423 non-null  bool   \n",
      " 17  SUPERUSER_LAST_LOGIN_ACTIVE   27423 non-null  bool   \n",
      " 18  ACCOUNTANT_LAST_LOGIN_ACTIVE  27423 non-null  bool   \n",
      " 19  COUNTY                        21449 non-null  object \n",
      "dtypes: bool(6), float64(8), object(6)\n",
      "memory usage: 3.1+ MB\n"
     ]
    }
   ],
   "source": [
    "df.info()"
   ]
  },
  {
   "cell_type": "code",
   "execution_count": 15,
   "metadata": {},
   "outputs": [
    {
     "name": "stdout",
     "output_type": "stream",
     "text": [
      "0.1355534696853568\n",
      "SERVICE_1_COUNT                 0.000319\n",
      "SERVICE_2_COUNT                 0.000061\n",
      "SERVICE_2_TOTAL                 0.000053\n",
      "SERVICE_3_COUNT                 0.000393\n",
      "SUPERUSER_ID                    0.237324\n",
      "ACCOUNTANT_ID                   0.040178\n",
      "GROSS_INCOME                    0.000213\n",
      "RATING_CODE                     0.859936\n",
      "CREATED_ON_ACTIVE               0.148510\n",
      "LAST_LOGIN_ACTIVE               0.246077\n",
      "SERVICE_X_DATE_ACTIVE           0.048153\n",
      "PACKAGE_CHANGE_DATE_ACTIVE      0.040078\n",
      "SUPERUSER_LAST_LOGIN_ACTIVE     0.248782\n",
      "ACCOUNTANT_LAST_LOGIN_ACTIVE    0.027670\n",
      "dtype: float64\n"
     ]
    },
    {
     "name": "stderr",
     "output_type": "stream",
     "text": [
      "C:\\Users\\anonym\\AppData\\Local\\Temp/ipykernel_20148/3486316742.py:1: FutureWarning: Dropping of nuisance columns in DataFrame reductions (with 'numeric_only=None') is deprecated; in a future version this will raise TypeError.  Select only valid columns before calling the reduction.\n",
      "  print(df.var(axis=0).mean())\n",
      "C:\\Users\\anonym\\AppData\\Local\\Temp/ipykernel_20148/3486316742.py:2: FutureWarning: Dropping of nuisance columns in DataFrame reductions (with 'numeric_only=None') is deprecated; in a future version this will raise TypeError.  Select only valid columns before calling the reduction.\n",
      "  print(df.var(axis=0))\n"
     ]
    }
   ],
   "source": [
    "print(df.var(axis=0).mean())\n",
    "print(df.var(axis=0))"
   ]
  },
  {
   "cell_type": "markdown",
   "metadata": {},
   "source": [
    "Based on the variances, we can drop two very homogenous columns: `SERVICE_2_COUNT` and `SERVICE_2_TOTAL`."
   ]
  },
  {
   "cell_type": "code",
   "execution_count": null,
   "metadata": {},
   "outputs": [],
   "source": [
    "df.drop([\"SERVICE_2_COUNT\", \"SERVICE_2_TOTAL\"], axis=1, inplace=True)"
   ]
  },
  {
   "cell_type": "code",
   "execution_count": 24,
   "metadata": {},
   "outputs": [
    {
     "name": "stdout",
     "output_type": "stream",
     "text": [
      "27423\n",
      "LINE_OF_BUSINESS\n",
      "475\n",
      "\n",
      "SIZE_CODE\n",
      "19\n",
      "['91406695.0' '91406690.0' '91406692.0' '91406694.0' '91406683.0' nan\n",
      " '91406697.0' '91406693.0' '91406696.0' '91406698.0' '91406688.0'\n",
      " '91406682.0' '91406685.0' '91406699.0' '91406687.0' '91406684.0'\n",
      " '91406689.0' '91406686.0' '91406691.0']\n",
      "\n",
      "PACKAGE_TYPE\n",
      "11\n",
      "['Free_tier_0' 'Hibernated' 'paid_tier_1' 'paid_tier_2' 'Hibernated_2'\n",
      " 'Freemium' 'Free_tier_1' nan 'Free_tier_2' 'Free_tier_3'\n",
      " 'Free_tier_promo']\n",
      "\n",
      "PREVIOUS_PACKAGE_TYPE\n",
      "14\n",
      "['Free_tier_0' 'Hibernated' 'paid_tier_1' 'S' 'paid_tier_2' 'Hibernated_2'\n",
      " 'Freemium' 'M' 'Free_tier_1' 'Free_tier_2' nan 'ExleX' 'Free_tier_3'\n",
      " 'Free_tier_promo']\n",
      "\n",
      "SERVICE_1_COUNT\n",
      "461\n",
      "\n",
      "SERVICE_2_COUNT\n",
      "94\n",
      "\n",
      "SERVICE_2_TOTAL\n",
      "770\n",
      "\n",
      "SERVICE_3_COUNT\n",
      "506\n",
      "\n",
      "SUPERUSER_ID\n",
      "2\n",
      "[1. 0.]\n",
      "\n",
      "ACCOUNTANT_ID\n",
      "2\n",
      "[0. 1.]\n",
      "\n",
      "GROSS_INCOME\n",
      "16631\n",
      "\n",
      "STATUS_CODE\n",
      "11\n",
      "['91406700.0' '91406713.0' nan '91406701.0' '91406705.0' '91406710.0'\n",
      " '91406711.0' '91406702.0' '91406714.0' '91406708.0' '91406715.0']\n",
      "\n",
      "RATING_CODE\n",
      "5\n",
      "[ 4.  1.  2. nan  3.]\n",
      "\n",
      "CREATED_ON_ACTIVE\n",
      "2\n",
      "[False  True]\n",
      "\n",
      "LAST_LOGIN_ACTIVE\n",
      "2\n",
      "[False  True]\n",
      "\n",
      "SERVICE_X_DATE_ACTIVE\n",
      "2\n",
      "[False  True]\n",
      "\n",
      "PACKAGE_CHANGE_DATE_ACTIVE\n",
      "2\n",
      "[ True False]\n",
      "\n",
      "SUPERUSER_LAST_LOGIN_ACTIVE\n",
      "2\n",
      "[False  True]\n",
      "\n",
      "ACCOUNTANT_LAST_LOGIN_ACTIVE\n",
      "2\n",
      "[False  True]\n",
      "\n",
      "COUNTY\n",
      "21\n",
      "['Főváros' 'Pest' 'Nógrád' nan 'Bács-Kiskun' 'Győr-Moson-Sopron' 'Heves'\n",
      " 'Csongrád' 'Borsod-Abaúj-Zemplén' 'Fejér' 'Jász-Nagykun-Szolnok'\n",
      " 'Baranya' 'Komárom-Esztergom' 'Szabolcs-Szatmár-Bereg' 'Zala' 'Somogy'\n",
      " 'Békés' 'Hajdú-Bihar' 'Veszprém' 'Vas' 'Tolna']\n",
      "\n"
     ]
    }
   ],
   "source": [
    "print(len(df))\n",
    "for col in df.columns:\n",
    "    uvals = df[col].unique()\n",
    "    print(col)\n",
    "    print(len(uvals))\n",
    "    if len(uvals) < 50:\n",
    "        print(uvals)\n",
    "    print()"
   ]
  },
  {
   "cell_type": "code",
   "execution_count": 25,
   "metadata": {},
   "outputs": [],
   "source": [
    "#gdist = gower.gower_matrix(df)\n",
    "#np.save(\"gower_dist_v3.npy\", gdist)"
   ]
  }
 ],
 "metadata": {
  "language_info": {
   "name": "python"
  },
  "orig_nbformat": 4
 },
 "nbformat": 4,
 "nbformat_minor": 2
}
