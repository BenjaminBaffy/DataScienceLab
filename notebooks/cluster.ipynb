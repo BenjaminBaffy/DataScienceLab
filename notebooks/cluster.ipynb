{
 "cells": [
  {
   "cell_type": "code",
   "execution_count": 24,
   "metadata": {},
   "outputs": [],
   "source": [
    "import numpy as np\n",
    "from sklearn import cluster\n",
    "from sklearn import metrics\n",
    "import pandas as pd\n",
    "pd.set_option('display.max_rows', 20)\n",
    "pd.set_option('display.max_columns', None)\n",
    "from matplotlib import pyplot as plt\n",
    "%matplotlib inline"
   ]
  },
  {
   "cell_type": "code",
   "execution_count": 25,
   "metadata": {},
   "outputs": [],
   "source": [
    "gdist_load = np.load(\"dist_matricies/v7/gower_dist_v7.npy\")"
   ]
  },
  {
   "cell_type": "code",
   "execution_count": 26,
   "metadata": {},
   "outputs": [],
   "source": [
    "GDIST = np.copy(gdist_load)"
   ]
  },
  {
   "cell_type": "code",
   "execution_count": 27,
   "metadata": {},
   "outputs": [
    {
     "data": {
      "text/plain": [
       "(27037, 27037)"
      ]
     },
     "execution_count": 27,
     "metadata": {},
     "output_type": "execute_result"
    }
   ],
   "source": [
    "GDIST.shape"
   ]
  },
  {
   "cell_type": "code",
   "execution_count": 28,
   "metadata": {},
   "outputs": [
    {
     "name": "stdout",
     "output_type": "stream",
     "text": [
      "730999369\n",
      "730783089\n",
      "0.0\n",
      "0.72473377\n"
     ]
    }
   ],
   "source": [
    "print(GDIST.size)\n",
    "print(np.count_nonzero(~np.isnan(GDIST)))\n",
    "print(np.nanmin(GDIST))\n",
    "print(np.nanmax(GDIST))"
   ]
  },
  {
   "cell_type": "code",
   "execution_count": 29,
   "metadata": {},
   "outputs": [],
   "source": [
    "GDIST[np.isnan(GDIST)] = 0.9\n",
    "np.fill_diagonal(GDIST, 0)"
   ]
  },
  {
   "cell_type": "code",
   "execution_count": 30,
   "metadata": {},
   "outputs": [],
   "source": [
    "def eval_fun(model):\n",
    "    labels = model.fit_predict(GDIST)\n",
    "    print(np.unique(labels, return_counts=True))\n",
    "    sil = metrics.silhouette_score(GDIST, labels, metric=\"precomputed\")\n",
    "    print(sil)\n",
    "    return labels"
   ]
  },
  {
   "cell_type": "code",
   "execution_count": 43,
   "metadata": {},
   "outputs": [],
   "source": [
    "dbscan_model = cluster.DBSCAN(eps=0.15, metric=\"precomputed\", n_jobs=8)"
   ]
  },
  {
   "cell_type": "code",
   "execution_count": 44,
   "metadata": {},
   "outputs": [
    {
     "name": "stdout",
     "output_type": "stream",
     "text": [
      "(array([-1,  0,  1], dtype=int64), array([    4, 22090,  4943], dtype=int64))\n",
      "0.5447408\n"
     ]
    }
   ],
   "source": [
    "dbscan_labels = eval_fun(dbscan_model)"
   ]
  },
  {
   "cell_type": "code",
   "execution_count": 37,
   "metadata": {},
   "outputs": [],
   "source": [
    "agg_avg_model = cluster.AgglomerativeClustering(\n",
    "    linkage=\"average\",\n",
    "    n_clusters=4,\n",
    "    affinity=\"precomputed\",\n",
    "    memory=\"dist_matricies/v7/\")"
   ]
  },
  {
   "cell_type": "code",
   "execution_count": 38,
   "metadata": {},
   "outputs": [
    {
     "name": "stderr",
     "output_type": "stream",
     "text": [
      "c:\\Users\\anonym\\miniconda3\\envs\\math\\lib\\site-packages\\sklearn\\cluster\\_agglomerative.py:1001: UserWarning: Persisting input arguments took 16.84s to run.\n",
      "If this happens often in your code, it can cause performance problems \n",
      "(results will be correct in all cases). \n",
      "The reason for this is probably some large input arguments for a wrapped\n",
      " function (e.g. large strings).\n",
      "THIS IS A JOBLIB ISSUE. If you can, kindly provide the joblib's team with an\n",
      " example so that they can fix the problem.\n",
      "  out = memory.cache(tree_builder)(\n"
     ]
    },
    {
     "name": "stdout",
     "output_type": "stream",
     "text": [
      "(array([0, 1, 2, 3], dtype=int64), array([    2, 27033,     1,     1], dtype=int64))\n",
      "0.7307902\n"
     ]
    }
   ],
   "source": [
    "agg_avg_labels = eval_fun(agg_avg_model)"
   ]
  }
 ],
 "metadata": {
  "interpreter": {
   "hash": "e6ea2139df55b4855166afed19498c005309018caf25e34579dd3df29ca0381d"
  },
  "kernelspec": {
   "display_name": "Python 3.8.0 ('math')",
   "language": "python",
   "name": "python3"
  },
  "language_info": {
   "codemirror_mode": {
    "name": "ipython",
    "version": 3
   },
   "file_extension": ".py",
   "mimetype": "text/x-python",
   "name": "python",
   "nbconvert_exporter": "python",
   "pygments_lexer": "ipython3",
   "version": "3.8.0"
  },
  "orig_nbformat": 4
 },
 "nbformat": 4,
 "nbformat_minor": 2
}
