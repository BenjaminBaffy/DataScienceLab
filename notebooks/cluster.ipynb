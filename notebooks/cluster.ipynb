{
 "cells": [
  {
   "cell_type": "code",
   "execution_count": 52,
   "metadata": {},
   "outputs": [],
   "source": [
    "import numpy as np\n",
    "from sklearn import cluster\n",
    "from sklearn import metrics\n",
    "import pandas as pd\n",
    "pd.set_option('display.max_rows', 20)\n",
    "pd.set_option('display.max_columns', None)\n",
    "from matplotlib import pyplot as plt\n",
    "%matplotlib inline"
   ]
  },
  {
   "cell_type": "code",
   "execution_count": 53,
   "metadata": {},
   "outputs": [],
   "source": [
    "gdist_load = np.load(\"dist_matricies/v5/gower_dist_v5.npy\")"
   ]
  },
  {
   "cell_type": "code",
   "execution_count": 54,
   "metadata": {},
   "outputs": [],
   "source": [
    "GDIST = np.copy(gdist_load)"
   ]
  },
  {
   "cell_type": "code",
   "execution_count": 55,
   "metadata": {},
   "outputs": [
    {
     "data": {
      "text/plain": [
       "(27037, 27037)"
      ]
     },
     "execution_count": 55,
     "metadata": {},
     "output_type": "execute_result"
    }
   ],
   "source": [
    "GDIST.shape"
   ]
  },
  {
   "cell_type": "code",
   "execution_count": 56,
   "metadata": {},
   "outputs": [
    {
     "name": "stdout",
     "output_type": "stream",
     "text": [
      "730999369\n",
      "730999369\n",
      "0.0\n",
      "0.6666667\n"
     ]
    }
   ],
   "source": [
    "print(GDIST.size)\n",
    "print(np.count_nonzero(~np.isnan(GDIST)))\n",
    "print(np.nanmin(GDIST))\n",
    "print(np.nanmax(GDIST))"
   ]
  },
  {
   "cell_type": "code",
   "execution_count": 57,
   "metadata": {},
   "outputs": [],
   "source": [
    "GDIST[np.isnan(GDIST)] = 0.9\n",
    "np.fill_diagonal(GDIST, 0)"
   ]
  },
  {
   "cell_type": "code",
   "execution_count": 30,
   "metadata": {},
   "outputs": [],
   "source": [
    "def eval_fun(model):\n",
    "    labels = model.fit_predict(GDIST)\n",
    "    print(np.unique(labels, return_counts=True))\n",
    "    sil = metrics.silhouette_score(GDIST, labels, metric=\"precomputed\")\n",
    "    print(sil)\n",
    "    return labels"
   ]
  },
  {
   "cell_type": "code",
   "execution_count": 43,
   "metadata": {},
   "outputs": [],
   "source": [
    "dbscan_model = cluster.DBSCAN(eps=0.15, metric=\"precomputed\", n_jobs=8)"
   ]
  },
  {
   "cell_type": "code",
   "execution_count": 44,
   "metadata": {},
   "outputs": [
    {
     "name": "stdout",
     "output_type": "stream",
     "text": [
      "(array([-1,  0,  1], dtype=int64), array([    4, 22090,  4943], dtype=int64))\n",
      "0.5447408\n"
     ]
    }
   ],
   "source": [
    "dbscan_labels = eval_fun(dbscan_model)"
   ]
  },
  {
   "cell_type": "code",
   "execution_count": 51,
   "metadata": {},
   "outputs": [],
   "source": [
    "np.save(\"dist_matricies/v7/dbscan_labels.npy\", dbscan_labels)"
   ]
  },
  {
   "cell_type": "code",
   "execution_count": 62,
   "metadata": {},
   "outputs": [],
   "source": [
    "agg_avg_model = cluster.AgglomerativeClustering(\n",
    "    linkage=\"average\",\n",
    "    n_clusters=3,\n",
    "    affinity=\"precomputed\",\n",
    "    memory=\"dist_matricies/v5/\")"
   ]
  },
  {
   "cell_type": "code",
   "execution_count": 63,
   "metadata": {},
   "outputs": [
    {
     "name": "stdout",
     "output_type": "stream",
     "text": [
      "(array([0, 1, 2], dtype=int64), array([ 5979,  2739, 18319], dtype=int64))\n",
      "0.3433857\n"
     ]
    }
   ],
   "source": [
    "agg_avg_labels = eval_fun(agg_avg_model)"
   ]
  },
  {
   "cell_type": "code",
   "execution_count": 64,
   "metadata": {},
   "outputs": [],
   "source": [
    "np.save(\"dist_matricies/v5/agg_labels.npy\", agg_avg_labels)"
   ]
  }
 ],
 "metadata": {
  "interpreter": {
   "hash": "e6ea2139df55b4855166afed19498c005309018caf25e34579dd3df29ca0381d"
  },
  "kernelspec": {
   "display_name": "Python 3.8.0 ('math')",
   "language": "python",
   "name": "python3"
  },
  "language_info": {
   "codemirror_mode": {
    "name": "ipython",
    "version": 3
   },
   "file_extension": ".py",
   "mimetype": "text/x-python",
   "name": "python",
   "nbconvert_exporter": "python",
   "pygments_lexer": "ipython3",
   "version": "3.8.0"
  },
  "orig_nbformat": 4
 },
 "nbformat": 4,
 "nbformat_minor": 2
}
