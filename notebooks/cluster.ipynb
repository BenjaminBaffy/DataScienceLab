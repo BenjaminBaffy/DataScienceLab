{
 "cells": [
  {
   "cell_type": "code",
   "execution_count": 1,
   "metadata": {},
   "outputs": [],
   "source": [
    "import numpy as np\n",
    "from sklearn import cluster\n",
    "from sklearn import metrics\n",
    "import pandas as pd\n",
    "pd.set_option('display.max_rows', 20)\n",
    "pd.set_option('display.max_columns', None)\n",
    "from matplotlib import pyplot as plt\n",
    "%matplotlib inline"
   ]
  },
  {
   "cell_type": "code",
   "execution_count": 2,
   "metadata": {},
   "outputs": [],
   "source": [
    "gdist_load = np.load(\"dist_matricies/v5/gower_dist_v5.npy\")"
   ]
  },
  {
   "cell_type": "code",
   "execution_count": 3,
   "metadata": {},
   "outputs": [],
   "source": [
    "GDIST = np.copy(gdist_load)"
   ]
  },
  {
   "cell_type": "code",
   "execution_count": 4,
   "metadata": {},
   "outputs": [
    {
     "data": {
      "text/plain": [
       "(27037, 27037)"
      ]
     },
     "execution_count": 4,
     "metadata": {},
     "output_type": "execute_result"
    }
   ],
   "source": [
    "GDIST.shape"
   ]
  },
  {
   "cell_type": "code",
   "execution_count": 5,
   "metadata": {},
   "outputs": [
    {
     "name": "stdout",
     "output_type": "stream",
     "text": [
      "730999369\n",
      "730999369\n",
      "0.0\n",
      "0.6666667\n"
     ]
    }
   ],
   "source": [
    "print(GDIST.size)\n",
    "print(np.count_nonzero(~np.isnan(GDIST)))\n",
    "print(np.nanmin(GDIST))\n",
    "print(np.nanmax(GDIST))"
   ]
  },
  {
   "cell_type": "code",
   "execution_count": 6,
   "metadata": {},
   "outputs": [],
   "source": [
    "GDIST[np.isnan(GDIST)] = 0.9\n",
    "np.fill_diagonal(GDIST, 0)"
   ]
  },
  {
   "cell_type": "code",
   "execution_count": 7,
   "metadata": {},
   "outputs": [],
   "source": [
    "def eval_fun(model):\n",
    "    labels = model.fit_predict(GDIST)\n",
    "    print(np.unique(labels, return_counts=True))\n",
    "    sil = metrics.silhouette_score(GDIST, labels, metric=\"precomputed\")\n",
    "    print(sil)\n",
    "    return labels"
   ]
  },
  {
   "cell_type": "code",
   "execution_count": 29,
   "metadata": {},
   "outputs": [],
   "source": [
    "dbscan_model = cluster.DBSCAN(eps=0.15, metric=\"precomputed\", n_jobs=8)"
   ]
  },
  {
   "cell_type": "code",
   "execution_count": 30,
   "metadata": {},
   "outputs": [
    {
     "name": "stdout",
     "output_type": "stream",
     "text": [
      "(array([-1,  0,  1,  2,  3,  4,  5,  6,  7,  8,  9, 10, 11, 12, 13, 14, 15,\n",
      "       16, 17, 18, 19, 20, 21, 22, 23, 24, 25, 26, 27], dtype=int64), array([ 7754, 17520,    10,     6,    10,  1047,   419,     5,     9,\n",
      "           5,     6,    46,     5,     5,     5,    72,     5,    11,\n",
      "          19,    17,    12,     5,     8,     8,     7,     5,     5,\n",
      "           5,     6], dtype=int64))\n",
      "-0.25254396\n"
     ]
    }
   ],
   "source": [
    "dbscan_labels = eval_fun(dbscan_model)"
   ]
  },
  {
   "cell_type": "code",
   "execution_count": 43,
   "metadata": {},
   "outputs": [],
   "source": [
    "agg_avg_model = cluster.AgglomerativeClustering(linkage=\"average\", n_clusters=10, affinity=\"precomputed\", memory=\"dist_matricies/v3/\")"
   ]
  },
  {
   "cell_type": "code",
   "execution_count": 44,
   "metadata": {},
   "outputs": [
    {
     "name": "stdout",
     "output_type": "stream",
     "text": [
      "(array([0, 1, 2, 3, 4, 5, 6, 7, 8, 9], dtype=int64), array([ 2360,  2343,   111, 15751,   225,   379,  1122,   197,  4395,\n",
      "         154], dtype=int64))\n",
      "0.34858885\n"
     ]
    }
   ],
   "source": [
    "agg_avg_labels = eval_fun(agg_avg_model)"
   ]
  }
 ],
 "metadata": {
  "interpreter": {
   "hash": "e6ea2139df55b4855166afed19498c005309018caf25e34579dd3df29ca0381d"
  },
  "kernelspec": {
   "display_name": "Python 3.8.0 ('math')",
   "language": "python",
   "name": "python3"
  },
  "language_info": {
   "codemirror_mode": {
    "name": "ipython",
    "version": 3
   },
   "file_extension": ".py",
   "mimetype": "text/x-python",
   "name": "python",
   "nbconvert_exporter": "python",
   "pygments_lexer": "ipython3",
   "version": "3.8.0"
  },
  "orig_nbformat": 4
 },
 "nbformat": 4,
 "nbformat_minor": 2
}
